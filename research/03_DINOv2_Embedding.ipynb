{
 "cells": [
  {
   "cell_type": "code",
   "execution_count": 2,
   "id": "90c4fd1f",
   "metadata": {},
   "outputs": [
    {
     "name": "stderr",
     "output_type": "stream",
     "text": [
      "c:\\Users\\HP\\Desktop\\E-Vision-Projects\\Merchandiser_Products_Counter\\.venv\\Lib\\site-packages\\tqdm\\auto.py:21: TqdmWarning: IProgress not found. Please update jupyter and ipywidgets. See https://ipywidgets.readthedocs.io/en/stable/user_install.html\n",
      "  from .autonotebook import tqdm as notebook_tqdm\n"
     ]
    }
   ],
   "source": [
    "from transformers import AutoImageProcessor, AutoModel\n",
    "import torch"
   ]
  },
  {
   "cell_type": "code",
   "execution_count": 3,
   "id": "66da1e58",
   "metadata": {},
   "outputs": [],
   "source": [
    "model_name = 'facebook/dinov2-large'"
   ]
  },
  {
   "cell_type": "code",
   "execution_count": 4,
   "id": "796aa13a",
   "metadata": {},
   "outputs": [
    {
     "name": "stderr",
     "output_type": "stream",
     "text": [
      "Fetching 1 files:   0%|          | 0/1 [00:00<?, ?it/s]c:\\Users\\HP\\Desktop\\E-Vision-Projects\\Merchandiser_Products_Counter\\.venv\\Lib\\site-packages\\huggingface_hub\\file_download.py:143: UserWarning: `huggingface_hub` cache-system uses symlinks by default to efficiently store duplicated files but your machine does not support them in C:\\Users\\HP\\.cache\\huggingface\\hub\\models--facebook--dinov2-large. Caching files will still work but in a degraded version that might require more space on your disk. This warning can be disabled by setting the `HF_HUB_DISABLE_SYMLINKS_WARNING` environment variable. For more details, see https://huggingface.co/docs/huggingface_hub/how-to-cache#limitations.\n",
      "To support symlinks on Windows, you either need to activate Developer Mode or to run Python as an administrator. In order to activate developer mode, see this article: https://docs.microsoft.com/en-us/windows/apps/get-started/enable-your-device-for-development\n",
      "  warnings.warn(message)\n",
      "Fetching 1 files: 100%|██████████| 1/1 [00:00<00:00,  1.13it/s]\n",
      "Using a slow image processor as `use_fast` is unset and a slow processor was saved with this model. `use_fast=True` will be the default behavior in v4.52, even if the model was saved with a slow processor. This will result in minor differences in outputs. You'll still be able to use a slow processor with `use_fast=False`.\n",
      "Xet Storage is enabled for this repo, but the 'hf_xet' package is not installed. Falling back to regular HTTP download. For better performance, install the package with: `pip install huggingface_hub[hf_xet]` or `pip install hf_xet`\n"
     ]
    }
   ],
   "source": [
    "processor = AutoImageProcessor.from_pretrained(model_name)\n",
    "model  = AutoModel.from_pretrained(model_name)"
   ]
  },
  {
   "cell_type": "code",
   "execution_count": 11,
   "id": "b0c64696",
   "metadata": {},
   "outputs": [],
   "source": [
    "def get_embedding(image):\n",
    "    inputs = processor(images=image, return_tensors=\"pt\")\n",
    "    with torch.no_grad():\n",
    "        outputs = model(**inputs)\n",
    "        print(outputs)\n",
    "        # Use CLS token embedding\n",
    "        embedding = outputs.last_hidden_state[:, 0, :].squeeze()\n",
    "    return embedding.numpy()"
   ]
  },
  {
   "cell_type": "code",
   "execution_count": 12,
   "id": "e9dc151c",
   "metadata": {},
   "outputs": [],
   "source": [
    "from PIL import Image"
   ]
  },
  {
   "cell_type": "code",
   "execution_count": 13,
   "id": "cc7a73b1",
   "metadata": {},
   "outputs": [],
   "source": [
    "image = '../data/test_output/cropped_image_2.jpg'\n",
    "image = Image.open(image)"
   ]
  },
  {
   "cell_type": "code",
   "execution_count": 14,
   "id": "4119eb76",
   "metadata": {},
   "outputs": [
    {
     "name": "stdout",
     "output_type": "stream",
     "text": [
      "BaseModelOutputWithPooling(last_hidden_state=tensor([[[ 2.7682, -0.7520,  0.8486,  ...,  0.0129, -2.0608, -0.4539],\n",
      "         [ 2.1516,  0.8273, -0.7372,  ...,  0.3455, -1.5367,  0.2737],\n",
      "         [ 1.5849,  0.7777, -0.0699,  ..., -0.3213, -2.6683,  1.2853],\n",
      "         ...,\n",
      "         [ 0.5084, -0.4084,  0.0531,  ...,  0.8579, -0.3337, -0.0351],\n",
      "         [ 0.5830, -1.3127, -0.1754,  ..., -0.6313, -0.1508,  0.0484],\n",
      "         [ 1.8436, -1.8138, -0.3123,  ..., -0.6692,  0.0078,  0.4187]]]), pooler_output=tensor([[ 2.7682, -0.7520,  0.8486,  ...,  0.0129, -2.0608, -0.4539]]), hidden_states=None, attentions=None)\n"
     ]
    }
   ],
   "source": [
    "embedding = get_embedding(image)"
   ]
  },
  {
   "cell_type": "code",
   "execution_count": 10,
   "id": "4169def6",
   "metadata": {},
   "outputs": [
    {
     "data": {
      "text/plain": [
       "array([ 2.768203  , -0.75202346,  0.84858453, ...,  0.01292449,\n",
       "       -2.0608444 , -0.45385855], shape=(1024,), dtype=float32)"
      ]
     },
     "execution_count": 10,
     "metadata": {},
     "output_type": "execute_result"
    }
   ],
   "source": [
    "embedding"
   ]
  },
  {
   "cell_type": "code",
   "execution_count": null,
   "id": "6185510a",
   "metadata": {},
   "outputs": [],
   "source": []
  }
 ],
 "metadata": {
  "kernelspec": {
   "display_name": "Merchandiser_Products_Counter",
   "language": "python",
   "name": "python3"
  },
  "language_info": {
   "codemirror_mode": {
    "name": "ipython",
    "version": 3
   },
   "file_extension": ".py",
   "mimetype": "text/x-python",
   "name": "python",
   "nbconvert_exporter": "python",
   "pygments_lexer": "ipython3",
   "version": "3.11.0"
  }
 },
 "nbformat": 4,
 "nbformat_minor": 5
}
